{
 "cells": [
  {
   "cell_type": "markdown",
   "metadata": {},
   "source": [
    "### Task 1"
   ]
  },
  {
   "cell_type": "markdown",
   "metadata": {},
   "source": [
    "1. Install Jupyter notebook and run the first program and share the screenshot of the output."
   ]
  },
  {
   "cell_type": "code",
   "execution_count": 62,
   "metadata": {},
   "outputs": [
    {
     "name": "stdout",
     "output_type": "stream",
     "text": [
      "\u001b[1m\u001b[4m\u001b[94mLINK\n"
     ]
    }
   ],
   "source": [
    "print('\\033[1m'+ '\\033[4m' + '\\033[94m' + 'LINK')"
   ]
  },
  {
   "cell_type": "markdown",
   "metadata": {},
   "source": [
    " "
   ]
  },
  {
   "cell_type": "markdown",
   "metadata": {},
   "source": [
    "2. Write a program which will find all such numbers which are divisible by 7 but are not a multiple of 5, between 2000 and 3200 (both included). The numbers obtained should be printed in a comma-separated sequence on a single line. "
   ]
  },
  {
   "cell_type": "code",
   "execution_count": 52,
   "metadata": {},
   "outputs": [
    {
     "name": "stdout",
     "output_type": "stream",
     "text": [
      "2002,2009,2016,2023,2037,2044,2051,2058,2072,2079,2086,2093,2107,2114,2121,2128,2142,2149,2156,2163,2177,2184,2191,2198,2212,2219,2226,2233,2247,2254,2261,2268,2282,2289,2296,2303,2317,2324,2331,2338,2352,2359,2366,2373,2387,2394,2401,2408,2422,2429,2436,2443,2457,2464,2471,2478,2492,2499,2506,2513,2527,2534,2541,2548,2562,2569,2576,2583,2597,2604,2611,2618,2632,2639,2646,2653,2667,2674,2681,2688,2702,2709,2716,2723,2737,2744,2751,2758,2772,2779,2786,2793,2807,2814,2821,2828,2842,2849,2856,2863,2877,2884,2891,2898,2912,2919,2926,2933,2947,2954,2961,2968,2982,2989,2996,3003,3017,3024,3031,3038,3052,3059,3066,3073,3087,3094,3101,3108,3122,3129,3136,3143,3157,3164,3171,3178,3192,3199,"
     ]
    }
   ],
   "source": [
    "num_list = list(range(2000, 3201))\n",
    "for val in num_list:\n",
    "    if((val%7==0)and(val%5!=0)):\n",
    "        print(val, end=',')"
   ]
  },
  {
   "cell_type": "markdown",
   "metadata": {},
   "source": [
    " "
   ]
  },
  {
   "cell_type": "markdown",
   "metadata": {},
   "source": [
    "3. Write a Python program to accept the user's first and last name and then getting them printed in the the reverse order with a space between first name and last name"
   ]
  },
  {
   "cell_type": "code",
   "execution_count": 53,
   "metadata": {},
   "outputs": [
    {
     "name": "stdout",
     "output_type": "stream",
     "text": [
      "First Name: Vidula\n",
      "Last Name: Kamat\n",
      "Actual User Name:  Vidula Kamat\n",
      "Reverred User Name:  Kamat Vidula\n"
     ]
    }
   ],
   "source": [
    "first_name = input('First Name: ')\n",
    "last_name = input('Last Name: ')\n",
    "user_name_list = [first_name,last_name]\n",
    "actual_user_name = ' '.join([str(elem) for elem in user_name_list])\n",
    "print('Actual User Name: ',actual_user_name)\n",
    "revered_user_name_list = user_name_list[::-1]\n",
    "reversed_user_name = ' '.join([str(elem) for elem in revered_user_name_list])\n",
    "print('Reverred User Name: ',reversed_user_name)"
   ]
  },
  {
   "cell_type": "markdown",
   "metadata": {},
   "source": [
    " "
   ]
  },
  {
   "cell_type": "markdown",
   "metadata": {},
   "source": [
    "4. Write a Python program to find the volume of a sphere with diameter 12 cm.  \n",
    " Formula: V=4/3 * π * r 3"
   ]
  },
  {
   "cell_type": "code",
   "execution_count": 54,
   "metadata": {},
   "outputs": [
    {
     "name": "stdout",
     "output_type": "stream",
     "text": [
      "Volume of sphere with radius 12cm =  905.142857142857 cubic cm\n",
      "Volume of sphere with radius 12cm =  905.14 cubic cm when rounded off to 2 decimal places\n"
     ]
    }
   ],
   "source": [
    "diameter = 12\n",
    "radius = diameter / 2\n",
    "pi_val = 22 / 7\n",
    "\n",
    "volume_of_sphere = (4/3) * (pi_val) * (radius**3)\n",
    "print('Volume of sphere with radius 12cm = ',volume_of_sphere, 'cubic cm')\n",
    "print('Volume of sphere with radius 12cm = ',round(volume_of_sphere,2), 'cubic cm when rounded off to 2 decimal places')"
   ]
  },
  {
   "cell_type": "markdown",
   "metadata": {},
   "source": [
    "### Task 2"
   ]
  },
  {
   "cell_type": "markdown",
   "metadata": {},
   "source": [
    "1. Write a program which accepts a sequence of comma-separated numbers from console and generate a list"
   ]
  },
  {
   "cell_type": "code",
   "execution_count": 58,
   "metadata": {},
   "outputs": [
    {
     "name": "stdout",
     "output_type": "stream",
     "text": [
      "Comma separated sequence of numbers: 12,82,47,100,7777,4,90\n",
      "List of numbers:  ['12', '82', '47', '100', '7777', '4', '90']\n"
     ]
    }
   ],
   "source": [
    "numbers_input_list = input('Comma separated sequence of numbers: ').split(',')\n",
    "print('List of numbers: ', numbers_input_list)"
   ]
  },
  {
   "cell_type": "markdown",
   "metadata": {},
   "source": [
    " "
   ]
  },
  {
   "cell_type": "markdown",
   "metadata": {},
   "source": [
    "2. Create the below pattern using nested for loop in Python"
   ]
  },
  {
   "cell_type": "code",
   "execution_count": 59,
   "metadata": {},
   "outputs": [
    {
     "name": "stdout",
     "output_type": "stream",
     "text": [
      "*\n",
      "**\n",
      "***\n",
      "****\n",
      "*****\n",
      "****\n",
      "***\n",
      "**\n",
      "*\n"
     ]
    }
   ],
   "source": [
    "start_count = 1\n",
    "end_count = 5\n",
    "for i in range(start_count,(end_count+1)):\n",
    "    print('*' *i)\n",
    "    if(i == end_count):\n",
    "        for j in range ((end_count-1), (start_count-1), -1):\n",
    "            print('*' *j)"
   ]
  },
  {
   "cell_type": "markdown",
   "metadata": {},
   "source": [
    " "
   ]
  },
  {
   "cell_type": "markdown",
   "metadata": {},
   "source": [
    "3. Write a Python program to reverse a word after accepting the input from the user. \n",
    "Sample Output: \n",
    "Input word: AcadGild \n",
    "Output: dilGdacA "
   ]
  },
  {
   "cell_type": "code",
   "execution_count": 60,
   "metadata": {},
   "outputs": [
    {
     "name": "stdout",
     "output_type": "stream",
     "text": [
      "Input Word: AcadGild\n",
      "Input Word Entered:  AcadGild\n",
      "Input Word Reversed:  dliGdacA\n"
     ]
    }
   ],
   "source": [
    "input_word = input('Input Word: ')\n",
    "print(\"Input Word Entered: \",input_word)\n",
    "print(\"Input Word Reversed: \",input_word[::-1])"
   ]
  },
  {
   "cell_type": "markdown",
   "metadata": {},
   "source": [
    " "
   ]
  },
  {
   "cell_type": "markdown",
   "metadata": {},
   "source": [
    "4. Write a Python Program to print the given string in the format specified in the \n",
    "​sample input. \n",
    " WE, THE PEOPLE OF INDIA, having solemnly resolved to constitute India into a SOVEREIGN, SOCIALIST, SECULAR, DEMOCRATIC REPUBLIC and to secure to all its citizens \n",
    " \n",
    "Sample Output: \n",
    " \n",
    "WE, THE PEOPLE OF INDIA,   \n",
    "    having solemnly resolved to constitute India into a SOVEREIGN, !  \n",
    "        SOCIALIST, SECULAR, DEMOCRATIC REPUBLIC    \n",
    "            and to secure to all its citizens "
   ]
  },
  {
   "cell_type": "code",
   "execution_count": 63,
   "metadata": {},
   "outputs": [
    {
     "name": "stdout",
     "output_type": "stream",
     "text": [
      " WE, THE PEOPLE OF INDIA,\n",
      "\t having solemnly resolved to constitute India into a SOVEREIGN,!\n",
      "\t\t SOCIALIST, SECULAR, DEMOCRATIC REPUBLIC\n",
      "\t\t\t and to secure to all its citizen\n"
     ]
    }
   ],
   "source": [
    "given_text = \"WE, THE PEOPLE OF INDIA, having solemnly resolved to constitute India into a SOVEREIGN, SOCIALIST, SECULAR, DEMOCRATIC REPUBLIC and to secure to all its citizen\"\n",
    "text_list = given_text.split(' ')\n",
    "text_part_1 = ' '.join(elem for elem in text_list[0:5])#5\n",
    "text_part_2 = ' '.join(elem for elem in text_list[5:14])#9\n",
    "text_part_2 = text_part_2 + '!'\n",
    "text_part_3 = ' '.join(elem for elem in text_list[14:18])#4\n",
    "text_part_4 = ' '.join(elem for elem in text_list[18:])#till end\n",
    "texts_to_be_joined = [text_part_1, text_part_2, text_part_3, text_part_4]\n",
    "for i in range(0, len(texts_to_be_joined)):\n",
    "    print('\\t'*i, texts_to_be_joined[i]);"
   ]
  },
  {
   "cell_type": "code",
   "execution_count": null,
   "metadata": {},
   "outputs": [],
   "source": []
  }
 ],
 "metadata": {
  "kernelspec": {
   "display_name": "Python 3",
   "language": "python",
   "name": "python3"
  },
  "language_info": {
   "codemirror_mode": {
    "name": "ipython",
    "version": 3
   },
   "file_extension": ".py",
   "mimetype": "text/x-python",
   "name": "python",
   "nbconvert_exporter": "python",
   "pygments_lexer": "ipython3",
   "version": "3.7.4"
  }
 },
 "nbformat": 4,
 "nbformat_minor": 2
}
