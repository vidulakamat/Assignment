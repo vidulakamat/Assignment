{
 "cells": [
  {
   "cell_type": "code",
   "execution_count": 4,
   "metadata": {},
   "outputs": [],
   "source": [
    "import numpy as np"
   ]
  },
  {
   "cell_type": "code",
   "execution_count": 76,
   "metadata": {},
   "outputs": [],
   "source": [
    "np.set_printoptions(suppress=True)"
   ]
  },
  {
   "cell_type": "markdown",
   "metadata": {},
   "source": [
    "#### Problem 1: Write a function so that the columns of the output matrix are powers of the input vector. \n",
    "The order of the powers is determined by the increasing boolean argument. \n",
    "Specifically, when increasing is False, the i-th output column is the input vector raised element-wise to the power of N - i - 1.\n",
    "HINT: Such a matrix with a geometric progression in each row is named for Alexandre-Theophile Vandermonde."
   ]
  },
  {
   "cell_type": "code",
   "execution_count": 63,
   "metadata": {},
   "outputs": [],
   "source": [
    "def generate_vander_matrix(input_vec, num_columns=-1, increasing=False):\n",
    "    num_rows = len(input_vec)\n",
    "    if (num_columns == -1):\n",
    "        num_columns = len(input_vec)\n",
    "    vander_mat = np.zeros((num_rows, num_columns))\n",
    "    if(increasing):\n",
    "        row_index = 0\n",
    "        for x in input_vec:\n",
    "            for y in range(0, num_columns):\n",
    "                vander_mat[row_index][y] = x**y\n",
    "            row_index = row_index + 1\n",
    "    else:\n",
    "        row_index = 0\n",
    "        for x in input_vec:\n",
    "            col_index = 0\n",
    "            for y in range((num_columns-1),-1,-1):\n",
    "                vander_mat[row_index][col_index] = x**y\n",
    "                col_index = col_index + 1\n",
    "            row_index = row_index + 1\n",
    "    return vander_mat"
   ]
  },
  {
   "cell_type": "code",
   "execution_count": 60,
   "metadata": {},
   "outputs": [
    {
     "data": {
      "text/plain": [
       "array([7, 4, 1, 2])"
      ]
     },
     "execution_count": 60,
     "metadata": {},
     "output_type": "execute_result"
    }
   ],
   "source": [
    "input_vec = np.random.randint(1,10,4)\n",
    "input_vec"
   ]
  },
  {
   "cell_type": "code",
   "execution_count": 64,
   "metadata": {},
   "outputs": [
    {
     "data": {
      "text/plain": [
       "array([[343.,  49.,   7.,   1.],\n",
       "       [ 64.,  16.,   4.,   1.],\n",
       "       [  1.,   1.,   1.,   1.],\n",
       "       [  8.,   4.,   2.,   1.]])"
      ]
     },
     "execution_count": 64,
     "metadata": {},
     "output_type": "execute_result"
    }
   ],
   "source": [
    "vander_mat1 = generate_vander_matrix(input_vec)\n",
    "vander_mat1"
   ]
  },
  {
   "cell_type": "code",
   "execution_count": 65,
   "metadata": {},
   "outputs": [
    {
     "data": {
      "text/plain": [
       "array([[49.,  7.,  1.],\n",
       "       [16.,  4.,  1.],\n",
       "       [ 1.,  1.,  1.],\n",
       "       [ 4.,  2.,  1.]])"
      ]
     },
     "execution_count": 65,
     "metadata": {},
     "output_type": "execute_result"
    }
   ],
   "source": [
    "vander_mat2 = generate_vander_matrix(input_vec, 3)\n",
    "vander_mat2"
   ]
  },
  {
   "cell_type": "code",
   "execution_count": 77,
   "metadata": {},
   "outputs": [
    {
     "data": {
      "text/plain": [
       "array([[2401.,  343.,   49.,    7.,    1.],\n",
       "       [ 256.,   64.,   16.,    4.,    1.],\n",
       "       [   1.,    1.,    1.,    1.,    1.],\n",
       "       [  16.,    8.,    4.,    2.,    1.]])"
      ]
     },
     "execution_count": 77,
     "metadata": {},
     "output_type": "execute_result"
    }
   ],
   "source": [
    "vander_mat3 = generate_vander_matrix(input_vec, 5)\n",
    "vander_mat3"
   ]
  },
  {
   "cell_type": "code",
   "execution_count": 81,
   "metadata": {},
   "outputs": [
    {
     "data": {
      "text/plain": [
       "array([[  1.,   7.,  49., 343.],\n",
       "       [  1.,   4.,  16.,  64.],\n",
       "       [  1.,   1.,   1.,   1.],\n",
       "       [  1.,   2.,   4.,   8.]])"
      ]
     },
     "execution_count": 81,
     "metadata": {},
     "output_type": "execute_result"
    }
   ],
   "source": [
    "vander_mat4 = generate_vander_matrix(input_vec, 4, True)\n",
    "vander_mat4"
   ]
  },
  {
   "cell_type": "code",
   "execution_count": 83,
   "metadata": {},
   "outputs": [
    {
     "data": {
      "text/plain": [
       "array([[ 1.,  7., 49.],\n",
       "       [ 1.,  4., 16.],\n",
       "       [ 1.,  1.,  1.],\n",
       "       [ 1.,  2.,  4.]])"
      ]
     },
     "execution_count": 83,
     "metadata": {},
     "output_type": "execute_result"
    }
   ],
   "source": [
    "vander_mat5 = generate_vander_matrix(input_vec, 3, True)\n",
    "vander_mat5"
   ]
  },
  {
   "cell_type": "code",
   "execution_count": 84,
   "metadata": {},
   "outputs": [
    {
     "data": {
      "text/plain": [
       "array([[    1.,     7.,    49.,   343.,  2401., 16807.],\n",
       "       [    1.,     4.,    16.,    64.,   256.,  1024.],\n",
       "       [    1.,     1.,     1.,     1.,     1.,     1.],\n",
       "       [    1.,     2.,     4.,     8.,    16.,    32.]])"
      ]
     },
     "execution_count": 84,
     "metadata": {},
     "output_type": "execute_result"
    }
   ],
   "source": [
    "vander_mat6 = generate_vander_matrix(input_vec, 6, True)\n",
    "vander_mat6"
   ]
  },
  {
   "cell_type": "markdown",
   "metadata": {},
   "source": [
    "#### Problem 2:\n",
    "Given a sequence of n values x1, x2, ..., xn and a window size k>0, the k-th moving average of\n",
    "the given sequence is defined as follows:\n",
    "The moving average sequence has n-k+1 elements as shown below.\n",
    "The moving averages with k=4 of a ten-value sequence (n=10) is shown below\n",
    "i 1 2 3 4 5 6 7 8 9 10\n",
    "===== == == == == == == == == == ==\n",
    "Input 10 20 30 40 50 60 70 80 90 100\n",
    "y1 25 = (10+20+30+40)/4\n",
    "y2 35 = (20+30+40+50)/4\n",
    "y3 45 = (30+40+50+60)/4\n",
    "y4 55 = (40+50+60+70)/4\n",
    "y5 65 = (50+60+70+80)/4\n",
    "y6 75 = (60+70+80+90)/4\n",
    "y7 85 = (70+80+90+100)/4\n",
    "Thus, the moving average sequence has n-k+1=10-4+1=7 values.\n",
    "Question: Write a function to find moving average in an array over a window:\n",
    "Test it over [3, 5, 7, 2, 8, 10, 11, 65, 72, 81, 99, 100, 150] and window of 3."
   ]
  },
  {
   "cell_type": "code",
   "execution_count": 86,
   "metadata": {},
   "outputs": [],
   "source": [
    "def generate_moving_averages(input_vec, window_size=-1):\n",
    "    if(window_size <=0):\n",
    "        return 'Please enter a positive window size'\n",
    "    else:\n",
    "        moving_avgs_list = []\n",
    "        num_moving_ags = len(input_vec) - window_size + 1\n",
    "        start_index = 0\n",
    "        for x in range(num_moving_ags):\n",
    "            moving_avgs_list.append((input_vec[start_index:(start_index+window_size)]).mean())\n",
    "            start_index = start_index + 1\n",
    "        return np.array(moving_avgs_list)"
   ]
  },
  {
   "cell_type": "code",
   "execution_count": 88,
   "metadata": {},
   "outputs": [],
   "source": [
    "input_vec = np.array([3, 5, 7, 2, 8, 10, 11, 65, 72, 81, 99, 100, 150])\n",
    "window = 3"
   ]
  },
  {
   "cell_type": "code",
   "execution_count": 89,
   "metadata": {},
   "outputs": [
    {
     "data": {
      "text/plain": [
       "'Please enter a positive window size'"
      ]
     },
     "execution_count": 89,
     "metadata": {},
     "output_type": "execute_result"
    }
   ],
   "source": [
    "generate_moving_averages(input_vec)"
   ]
  },
  {
   "cell_type": "code",
   "execution_count": 91,
   "metadata": {},
   "outputs": [
    {
     "data": {
      "text/plain": [
       "array([  5.        ,   4.66666667,   5.66666667,   6.66666667,\n",
       "         9.66666667,  28.66666667,  49.33333333,  72.66666667,\n",
       "        84.        ,  93.33333333, 116.33333333])"
      ]
     },
     "execution_count": 91,
     "metadata": {},
     "output_type": "execute_result"
    }
   ],
   "source": [
    "mov_avgs_arr = generate_moving_averages(input_vec, 3)\n",
    "mov_avgs_arr"
   ]
  },
  {
   "cell_type": "code",
   "execution_count": 94,
   "metadata": {},
   "outputs": [
    {
     "name": "stdout",
     "output_type": "stream",
     "text": [
      "Number of elements in original array =  13\n",
      "Window size =  3\n",
      "Expected Number of elements in moving avgs array =  11\n",
      "Actual Number of elements in moving avgs array =  11\n",
      "Actual moving avgs array =  [  5.           4.66666667   5.66666667   6.66666667   9.66666667\n",
      "  28.66666667  49.33333333  72.66666667  84.          93.33333333\n",
      " 116.33333333]\n"
     ]
    }
   ],
   "source": [
    "print('Number of elements in original array = ',len(input_vec))\n",
    "print('Window size = ',window)\n",
    "print('Expected Number of elements in moving avgs array = ',(len(input_vec)-window+1))\n",
    "print('Actual Number of elements in moving avgs array = ',len(mov_avgs_arr))\n",
    "print('Actual moving avgs array = ',mov_avgs_arr)"
   ]
  },
  {
   "cell_type": "code",
   "execution_count": null,
   "metadata": {},
   "outputs": [],
   "source": []
  }
 ],
 "metadata": {
  "kernelspec": {
   "display_name": "Python 3",
   "language": "python",
   "name": "python3"
  },
  "language_info": {
   "codemirror_mode": {
    "name": "ipython",
    "version": 3
   },
   "file_extension": ".py",
   "mimetype": "text/x-python",
   "name": "python",
   "nbconvert_exporter": "python",
   "pygments_lexer": "ipython3",
   "version": "3.7.4"
  }
 },
 "nbformat": 4,
 "nbformat_minor": 2
}
