{
 "cells": [
  {
   "cell_type": "markdown",
   "metadata": {},
   "source": [
    "## Task 1"
   ]
  },
  {
   "cell_type": "markdown",
   "metadata": {},
   "source": [
    "1.1 Write a function to compute 5/0 and use try/except to catch the exceptions."
   ]
  },
  {
   "cell_type": "code",
   "execution_count": 8,
   "metadata": {},
   "outputs": [
    {
     "name": "stdout",
     "output_type": "stream",
     "text": [
      "Division of (5,0):  division by zero\n",
      "Division of (1,2):  0.5\n",
      "Division of (18,6):  3.0\n"
     ]
    }
   ],
   "source": [
    "def divideNumbers(x,y):\n",
    "    try:\n",
    "        division_val = x / y\n",
    "        return division_val\n",
    "    except Exception as e:\n",
    "        return e\n",
    "\n",
    "    \n",
    "print(\"Division of (5,0): \", divideNumbers(5, 0))\n",
    "print(\"Division of (1,2): \", divideNumbers(1, 2))\n",
    "print(\"Division of (18,6): \", divideNumbers(18, 6))"
   ]
  },
  {
   "cell_type": "markdown",
   "metadata": {},
   "source": [
    "1.2 Implement a Python program to generate all sentences where subject is in [\"Americans\",\n",
    "\"Indians\"] and verb is in [\"Play\", \"watch\"] and the object is in [\"Baseball\",\"cricket\"].\n",
    "Hint: Subject,Verb and Object should be declared in the program as shown below.\n",
    "subjects=[\"Americans \",\"Indians\"]\n",
    "verbs=[\"play\",\"watch\"]\n",
    "objects=[\"Baseball\",\"Cricket\"]\n",
    "Output should come as below:\n",
    "Americans play Baseball.\n",
    "Americans play Cricket.\n",
    "Americans watch Baseball.\n",
    "Americans watch Cricket.\n",
    "Indians play Baseball.\n",
    "Indians play Cricket.\n",
    "Indians watch Baseball.\n",
    "Indians watch Cricket."
   ]
  },
  {
   "cell_type": "code",
   "execution_count": 9,
   "metadata": {},
   "outputs": [
    {
     "name": "stdout",
     "output_type": "stream",
     "text": [
      "Americans play Baseball.\n",
      "Americans play Cricket.\n",
      "Americans watch Baseball.\n",
      "Americans watch Cricket.\n",
      "Indians play Baseball.\n",
      "Indians play Cricket.\n",
      "Indians watch Baseball.\n",
      "Indians watch Cricket.\n"
     ]
    }
   ],
   "source": [
    "subjects_list = [\"Americans\",\"Indians\"]\n",
    "verbs_list = [\"play\",\"watch\"]\n",
    "objects_list = [\"Baseball\",\"Cricket\"]\n",
    "\n",
    "for x in subjects_list:\n",
    "    for y in verbs_list:\n",
    "        for z in objects_list:\n",
    "            print(x + ' ' + y + ' ' + z + '.')"
   ]
  },
  {
   "cell_type": "markdown",
   "metadata": {},
   "source": [
    "## Task 2"
   ]
  },
  {
   "cell_type": "markdown",
   "metadata": {},
   "source": [
    "2.1 Write a function so that the columns of the output matrix are powers of the input vector.\n",
    "The order of the powers is determined by the increasing boolean argument. Specifically, when\n",
    "increasing is False, the i-th output column is the input vector raised element-wise to the power\n",
    "of N - i - 1.\n",
    "HINT: Such a matrix with a geometric progression in each row is named for Alexandre-\n",
    "Theophile Vandermonde."
   ]
  },
  {
   "cell_type": "code",
   "execution_count": 10,
   "metadata": {},
   "outputs": [],
   "source": [
    "def vandermondeMatrix(input_vector, num_columns, is_increasing):\n",
    "    try:\n",
    "        number_of_columns = int(num_columns)\n",
    "        input_vec_numbers = list(map(int, input_vector))\n",
    "        vander_mat = [([0]*number_of_columns) for x in (range(len(input_vec_numbers)))]\n",
    "        for i in range(len(input_vec_numbers)):\n",
    "            for j in range(number_of_columns):\n",
    "                if(is_increasing.lower() == 'y'):\n",
    "                    vander_mat[i][j] = input_vec_numbers[i] ** (j)\n",
    "                else:\n",
    "                    vander_mat[i][j] = input_vec_numbers[i] ** (number_of_columns - j - 1)\n",
    "        return vander_mat\n",
    "    except Exception as e:\n",
    "        return e"
   ]
  },
  {
   "cell_type": "code",
   "execution_count": 11,
   "metadata": {},
   "outputs": [
    {
     "name": "stdout",
     "output_type": "stream",
     "text": [
      "Vector with comma seperated integer values: 2,3,5,7\n",
      "Number of columns in Vandermonde matrix: 5\n",
      "Increasing Order (y/n): n\n",
      "Vandermonde Matrix:  [[16, 8, 4, 2, 1], [81, 27, 9, 3, 1], [625, 125, 25, 5, 1], [2401, 343, 49, 7, 1]]\n"
     ]
    }
   ],
   "source": [
    "try:\n",
    "    input_vec_str = input(\"Vector with comma seperated integer values: \")\n",
    "    input_vec = input_vec_str.split(',')\n",
    "    input_num_columns = input(\"Number of columns in Vandermonde matrix: \")\n",
    "    input_increasing = input(\"Increasing Order (y/n): \")\n",
    "    print(\"Vandermonde Matrix: \", vandermondeMatrix(input_vec, input_num_columns, input_increasing))\n",
    "except Exception as e:\n",
    "    print('Error while generating Vandermonde matrix: ',e)"
   ]
  },
  {
   "cell_type": "code",
   "execution_count": 12,
   "metadata": {},
   "outputs": [
    {
     "name": "stdout",
     "output_type": "stream",
     "text": [
      "Vector with comma seperated integer values: 2,4,6,8,10,12,14,16\n",
      "Number of columns in Vandermonde matrix: 6\n",
      "Increasing Order (y/n): Y\n",
      "Vandermonde Matrix:  [[1, 2, 4, 8, 16, 32], [1, 4, 16, 64, 256, 1024], [1, 6, 36, 216, 1296, 7776], [1, 8, 64, 512, 4096, 32768], [1, 10, 100, 1000, 10000, 100000], [1, 12, 144, 1728, 20736, 248832], [1, 14, 196, 2744, 38416, 537824], [1, 16, 256, 4096, 65536, 1048576]]\n"
     ]
    }
   ],
   "source": [
    "try:\n",
    "    input_vec_str = input(\"Vector with comma seperated integer values: \")\n",
    "    input_vec = input_vec_str.split(',')\n",
    "    input_num_columns = input(\"Number of columns in Vandermonde matrix: \")\n",
    "    input_increasing = input(\"Increasing Order (y/n): \")\n",
    "    print(\"Vandermonde Matrix: \", vandermondeMatrix(input_vec, input_num_columns, input_increasing))\n",
    "except Exception as e:\n",
    "    print('Error while generating Vandermonde matrix: ',e)"
   ]
  },
  {
   "cell_type": "code",
   "execution_count": null,
   "metadata": {},
   "outputs": [],
   "source": []
  }
 ],
 "metadata": {
  "kernelspec": {
   "display_name": "Python 3",
   "language": "python",
   "name": "python3"
  },
  "language_info": {
   "codemirror_mode": {
    "name": "ipython",
    "version": 3
   },
   "file_extension": ".py",
   "mimetype": "text/x-python",
   "name": "python",
   "nbconvert_exporter": "python",
   "pygments_lexer": "ipython3",
   "version": "3.7.4"
  }
 },
 "nbformat": 4,
 "nbformat_minor": 2
}
