{
 "cells": [
  {
   "cell_type": "markdown",
   "metadata": {},
   "source": [
    "2 Classes: A and B. Both will have same function named \"test\" but with different implementation.\n",
    "Class C will inherit both classes A and B.\n",
    "From Class C, invoke \"test\" functions of both classes A and B."
   ]
  },
  {
   "cell_type": "code",
   "execution_count": 84,
   "metadata": {},
   "outputs": [],
   "source": [
    "class A():\n",
    "    def __init__(self, param1, param2): \n",
    "        self.param1 = param1\n",
    "        self.param2 = param2\n",
    "    def test(self):\n",
    "        '''Adds param1 and param2'''\n",
    "        return (self.param1 + self.param2)\n",
    "\n",
    "class B():\n",
    "    def __init__(self, param1, param2): \n",
    "        self.param1 = param1\n",
    "        self.param2 = param2\n",
    "    def test(self):\n",
    "        '''Multiplies param1 and param2'''\n",
    "        return (self.param1 * self.param2)\n",
    "\n",
    "class C(A, B):\n",
    "    def __init__(self, *args):\n",
    "        super(C, self).__init__(*args)\n",
    "    def test(self):\n",
    "        print('Class A test output: ', A.test(self))\n",
    "        print('Class B test output: ', B.test(self))"
   ]
  },
  {
   "cell_type": "code",
   "execution_count": 85,
   "metadata": {},
   "outputs": [
    {
     "name": "stdout",
     "output_type": "stream",
     "text": [
      "Class A test output:  30\n",
      "Class B test output:  200\n"
     ]
    }
   ],
   "source": [
    "c1 = C(10,20)\n",
    "c1.test()"
   ]
  },
  {
   "cell_type": "code",
   "execution_count": 86,
   "metadata": {},
   "outputs": [
    {
     "name": "stdout",
     "output_type": "stream",
     "text": [
      "Class A test output:  85\n",
      "Class B test output:  1750\n"
     ]
    }
   ],
   "source": [
    "c2 = C(50, 35)\n",
    "c2.test()"
   ]
  },
  {
   "cell_type": "code",
   "execution_count": null,
   "metadata": {},
   "outputs": [],
   "source": []
  }
 ],
 "metadata": {
  "kernelspec": {
   "display_name": "Python 3",
   "language": "python",
   "name": "python3"
  },
  "language_info": {
   "codemirror_mode": {
    "name": "ipython",
    "version": 3
   },
   "file_extension": ".py",
   "mimetype": "text/x-python",
   "name": "python",
   "nbconvert_exporter": "python",
   "pygments_lexer": "ipython3",
   "version": "3.7.4"
  }
 },
 "nbformat": 4,
 "nbformat_minor": 2
}
