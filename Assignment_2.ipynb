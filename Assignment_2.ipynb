{
 "cells": [
  {
   "cell_type": "markdown",
   "metadata": {},
   "source": [
    "## Task 1"
   ]
  },
  {
   "cell_type": "markdown",
   "metadata": {},
   "source": [
    "1.1 Write a Python Program to implement your own myreduce() function which works exactly like Python's built-in function reduce()"
   ]
  },
  {
   "cell_type": "code",
   "execution_count": 21,
   "metadata": {},
   "outputs": [
    {
     "name": "stdout",
     "output_type": "stream",
     "text": [
      "Reduce Operation on List 1:  236\n",
      "Reduce Operation on List 2:  -350\n",
      "Reduce Operation on List 3:  Invalid Operation\n",
      "Reduce Operation on List 4:  Empty List\n"
     ]
    }
   ],
   "source": [
    "'''\n",
    "my_list : List to be operated upon\n",
    "operation : operation to be carried out on list elements\n",
    "    currently supported oprtations are : sum, difference\n",
    "'''\n",
    "def myreduce(my_list, operation):\n",
    "    if(len(my_list) > 0):\n",
    "        final_output = my_list[0]\n",
    "        iteration_count = 0\n",
    "        if(operation == 'sum'):\n",
    "            for item in my_list:\n",
    "                if(iteration_count != 0):\n",
    "                    final_output = final_output + item\n",
    "                iteration_count = iteration_count + 1\n",
    "        elif (operation == 'difference'):\n",
    "            for item in my_list:\n",
    "                if(iteration_count != 0):\n",
    "                    final_output = final_output - item\n",
    "                iteration_count = iteration_count + 1\n",
    "        else:\n",
    "            return 'Invalid Operation'\n",
    "        return final_output\n",
    "    else:\n",
    "        return 'Empty List'\n",
    "\n",
    "list1 = [12, 89, 45, 8, 25, 10, 47]\n",
    "print('Reduce Operation on List 1: ',myreduce(list1, 'sum'))\n",
    "list2 = list(range(100,0,-10))\n",
    "print('Reduce Operation on List 2: ',myreduce(list2, 'difference'))\n",
    "list3 = list(range(0,10))\n",
    "print('Reduce Operation on List 3: ',myreduce(list3, 'multiply'))\n",
    "list4 = []\n",
    "print('Reduce Operation on List 4: ',myreduce(list4, 'sum'))"
   ]
  },
  {
   "cell_type": "markdown",
   "metadata": {},
   "source": [
    "1.2 Write a Python program to implement your own myfilter() function which works exactly like Python's built-in function filter()"
   ]
  },
  {
   "cell_type": "code",
   "execution_count": 22,
   "metadata": {},
   "outputs": [
    {
     "name": "stdout",
     "output_type": "stream",
     "text": [
      "Filter Operation on List 1:  [0, 2, 4, 6, 8, 10, 12, 14, 16, 18]\n",
      "Filter Operation on List 2:  [49, 47, 45, 43, 41, 39, 37, 35, 33, 31]\n",
      "Filter Operation on List 3:  [0, 7, 14, 21, 28, 35, 42, 49, 56, 63, 70, 77, 84, 91, 98]\n",
      "Filter Operation on List 4:  Invalid Operation\n",
      "Filter Operation on List 5:  Empty List\n"
     ]
    }
   ],
   "source": [
    "'''\n",
    "my_list : List to be operated upon\n",
    "operation : operation to be carried out on list elements\n",
    "    currently supported oprtations are : even, odd, multiple\n",
    "extra_param: optional parameter needed when operation is 'multiple'\n",
    "    for any other oprtation this parameter is to be passed as an empty string\n",
    "'''\n",
    "def myfilter(my_list, operation, extra_param):\n",
    "    if(len(my_list) > 0):\n",
    "        new_list = []\n",
    "        for item in my_list:\n",
    "            if(operation == 'even'):\n",
    "                if(item%2 == 0):\n",
    "                    new_list.append(item)\n",
    "            elif(operation == 'odd'):\n",
    "                if(item%2 != 0):\n",
    "                    new_list.append(item)\n",
    "            elif(operation == 'multiple'):\n",
    "                if(item%extra_param == 0):\n",
    "                    new_list.append(item)\n",
    "            else:\n",
    "                return 'Invalid Operation'\n",
    "        return new_list\n",
    "    else:\n",
    "        return 'Empty List'\n",
    "    \n",
    "list1 = list(range(0,20))\n",
    "list2 = list(range(50,30,-1))\n",
    "list3 = list(range(0,100))\n",
    "list4 = list(range(200,100,-3))\n",
    "list5 = list(range(100,0))\n",
    "\n",
    "print('Filter Operation on List 1: ',myfilter(list1, 'even', ''))\n",
    "print('Filter Operation on List 2: ',myfilter(list2, 'odd', ''))\n",
    "print('Filter Operation on List 3: ',myfilter(list3, 'multiple', 7))\n",
    "print('Filter Operation on List 4: ',myfilter(list4, 'squares', ''))\n",
    "print('Filter Operation on List 5: ',myfilter(list5, 'multiple', 5))"
   ]
  },
  {
   "cell_type": "markdown",
   "metadata": {},
   "source": [
    "2. Implement List comprehensions to produce the following lists.\n",
    "Write List comprehensions to produce the following Lists\n",
    "['A', 'C', 'A', 'D', 'G', 'I', ’L’, ‘ D’]\n",
    "['x', 'xx', 'xxx', 'xxxx', 'y', 'yy', 'yyy', 'yyyy', 'z', 'zz', 'zzz', 'zzzz']\n",
    "['x', 'y', 'z', 'xx', 'yy', 'zz', 'xyx', 'yyy', 'zyz', 'xxxx', 'yyyy', 'zzzz']\n",
    "[[2], [3], [4], [3], [4], [5], [4], [5], [6]]\n",
    "[[2, 3, 4, 5], [3, 4, 5, 6], [4, 5, 6, 7], [5, 6, 7, 8]]\n",
    "[(1, 1), (2, 1), (3, 1), (1, 2), (2, 2), (3, 2), (1, 3), (2, 3), (3, 3)]"
   ]
  },
  {
   "cell_type": "code",
   "execution_count": 23,
   "metadata": {},
   "outputs": [
    {
     "name": "stdout",
     "output_type": "stream",
     "text": [
      "List 1:  ['A', 'C', 'A', 'D', 'G', 'I', 'L', 'D']\n",
      "List 2:  ['x', 'xx', 'xxx', 'xxxx', 'y', 'yy', 'yyy', 'yyyy', 'z', 'zz', 'zzz', 'zzzz']\n",
      "List 3:  ['x', 'y', 'z', 'xx', 'yy', 'zz', 'xxx', 'yyy', 'zzz', 'xxxx', 'yyyy', 'zzzz']\n",
      "List 4:  [[2], [3], [4], [3], [4], [5], [4], [5], [6]]\n",
      "List 5:  [[2, 3, 4, 5], [3, 4, 5, 6], [4, 5, 6, 7], [5, 6, 7, 8]]\n",
      "List 6:  [(1, 1), (2, 1), (3, 1), (1, 2), (2, 2), (3, 2), (1, 3), (2, 3), (3, 3)]\n"
     ]
    }
   ],
   "source": [
    "#['A', 'C', 'A', 'D', 'G', 'I', ’L’, ‘ D’]\n",
    "string1 = 'ACADGILD'\n",
    "print('List 1: ', [i for i in string1])\n",
    "\n",
    "\n",
    "#['x', 'xx', 'xxx', 'xxxx', 'y', 'yy', 'yyy', 'yyyy', 'z', 'zz', 'zzz', 'zzzz']\n",
    "string2 = 'xyz'\n",
    "list1 = [[i*j for j in range(1,5)] for i in string2]\n",
    "new_list_1 = []\n",
    "for item in list1:\n",
    "    new_list_1.extend(item)\n",
    "print('List 2: ',new_list_1)\n",
    "\n",
    "\n",
    "#['x', 'y', 'z', 'xx', 'yy', 'zz', 'xx', 'yy', 'zz', 'xxxx', 'yyyy', 'zzzz']\n",
    "list2 = [[i*j for i in string2] for j in range(1,5)]\n",
    "new_list_2 = []\n",
    "for item in list2:\n",
    "    new_list_2.extend(item)\n",
    "print('List 3: ',new_list_2)\n",
    "\n",
    "\n",
    "#[[2], [3], [4], [3], [4], [5], [4], [5], [6]]\n",
    "list_int_1 = []\n",
    "start_index = 2\n",
    "num_steps = 3\n",
    "end_index = start_index\n",
    "while(end_index < 5):\n",
    "    list_int_1.extend([[i] for i in range(start_index,(start_index+num_steps))])\n",
    "    start_index = start_index + 1\n",
    "    end_index = end_index + 1\n",
    "print('List 4: ',list_int_1)\n",
    "\n",
    "\n",
    "#[[2, 3, 4, 5], [3, 4, 5, 6], [4, 5, 6, 7], [5, 6, 7, 8]]\n",
    "list_int_2 = []\n",
    "start_index = 2\n",
    "num_steps = 4\n",
    "num_iterations = 1\n",
    "while(num_iterations < 5):\n",
    "    list_int_2.append([i for i in range(start_index,(start_index+num_steps))])\n",
    "    start_index = start_index + 1\n",
    "    num_iterations = num_iterations + 1\n",
    "print('List 5: ',list_int_2)\n",
    "\n",
    "\n",
    "#[(1, 1), (2, 1), (3, 1), (1, 2), (2, 2), (3, 2), (1, 3), (2, 3), (3, 3)]\n",
    "list_int_3 = [[(i,j) for i in range(1,4)] for j in range(1,4)]\n",
    "new_list_3 = []\n",
    "for item in list_int_3:\n",
    "    new_list_3.extend(item)\n",
    "print('List 6: ',new_list_3)"
   ]
  },
  {
   "cell_type": "markdown",
   "metadata": {},
   "source": [
    "3. Implement a function longestWord() that takes a list of words and returns the longest one."
   ]
  },
  {
   "cell_type": "code",
   "execution_count": 24,
   "metadata": {},
   "outputs": [
    {
     "name": "stdout",
     "output_type": "stream",
     "text": [
      "List 1:  ['a', 'bc', 'def', 'ghij', 'klmno', 'pqrstu', 'vwxyz']  :: Longest word =  pqrstu\n",
      "List 2:  ['novel corona', 'covid 19', '2020']  :: Longest word =  novel corona\n"
     ]
    }
   ],
   "source": [
    "def longestWord(my_list):\n",
    "    longest_word = ''\n",
    "    for item in my_list:\n",
    "        if(isinstance(item, type('string'))):\n",
    "            if(len(item) > len(longest_word)):\n",
    "                longest_word = item\n",
    "    return longest_word\n",
    "\n",
    "list1 = ['a', 'bc', 'def', 'ghij', 'klmno', 'pqrstu', 'vwxyz']\n",
    "list2 = ['novel corona', 'covid 19', '2020']\n",
    "print('List 1: ',list1,' :: Longest word = ',longestWord(list1))\n",
    "print('List 2: ',list2,' :: Longest word = ',longestWord(list2))"
   ]
  },
  {
   "cell_type": "markdown",
   "metadata": {},
   "source": [
    "## Task 2"
   ]
  },
  {
   "cell_type": "markdown",
   "metadata": {},
   "source": [
    "1.1 Write a Python Program(with class concepts) to find the area of the triangle using the below formula.\n",
    "area = (s*(s-a)*(s-b)*(s-c)) ** 0.5\n",
    "Function to take the length of the sides of triangle from user should be defined in the parent\n",
    "class and function to calculate the area should be defined in subclass."
   ]
  },
  {
   "cell_type": "code",
   "execution_count": 25,
   "metadata": {},
   "outputs": [
    {
     "name": "stdout",
     "output_type": "stream",
     "text": [
      "Side 1:8\n",
      "Side 2:6\n",
      "Side 3:10\n",
      "Side 1: 8, Side 2: 6, Side 3: 10\n",
      "Area of triangle:  24.0\n"
     ]
    }
   ],
   "source": [
    "import math\n",
    "\n",
    "class TriangleBase:\n",
    "    def __init__(self):\n",
    "        self.side1 = input(\"Side 1:\")\n",
    "        self.side2 = input(\"Side 2:\")\n",
    "        self.side3 = input(\"Side 3:\")\n",
    "    def __str__(self):\n",
    "        return (\"Side 1: \" + self.side1 + \", Side 2: \" + self.side2 + \", Side 3: \" + self.side3)\n",
    "    \n",
    "class TriangleFunction(TriangleBase):\n",
    "    def __init__(self):\n",
    "        super(TriangleFunction, self).__init__()\n",
    "        self.ta = 0\n",
    "    def area(self):\n",
    "        s1 = float(self.side1)\n",
    "        s2 = float(self.side2)\n",
    "        s3 = float(self.side3)\n",
    "        s = (s1 + s2 + s3) / 2\n",
    "        a = s - s1\n",
    "        b = s - s2\n",
    "        c = s - s3\n",
    "        self.ta = round((math.sqrt((s*a*b*c))), 2)\n",
    "        return self.ta\n",
    "    def __str__(self):\n",
    "        return super(TriangleFunction, self).__str__()\n",
    "    \n",
    "triangle1 = TriangleFunction()\n",
    "print(triangle1)\n",
    "print(\"Area of triangle: \",triangle1.area())"
   ]
  },
  {
   "cell_type": "markdown",
   "metadata": {},
   "source": [
    "1.2 Write a function filter_long_words() that takes a list of words and an integer n and returns the list of words that are longer than n."
   ]
  },
  {
   "cell_type": "code",
   "execution_count": 26,
   "metadata": {},
   "outputs": [
    {
     "name": "stdout",
     "output_type": "stream",
     "text": [
      "List 1:  ['ab', 'cde', 'fghi', 'jklmn', 'opqrst']  :: List containing longer words:  ['opqrst']\n",
      "List 2:  ['Write', 'a', 'function', 'filter_long_words()', 'that', 'takes', 'a', 'list', 'of', 'words', 'and', 'an', 'integer', 'n', 'and', 'returns', 'the', 'list', 'of', 'words', 'that', 'are', 'longer', 'than', 'n']  :: List containing longer words:  ['function', 'filter_long_words()', 'integer', 'returns']\n"
     ]
    }
   ],
   "source": [
    "def filter_long_words(my_list, max_number_of_characters):\n",
    "    list_long_words = []\n",
    "    for item in my_list:\n",
    "        if(isinstance(item, type('string'))):\n",
    "            if(len(item) > max_number_of_characters):\n",
    "                list_long_words.append(item)\n",
    "    return list_long_words\n",
    "\n",
    "list1 = ['ab','cde','fghi', 'jklmn', 'opqrst']\n",
    "print('List 1: ', list1, ' :: List containing longer words: ',filter_long_words(list1, 5))\n",
    "\n",
    "list2 = 'Write a function filter_long_words() that takes a list of words and an integer n and returns the list of words that are longer than n'.split()\n",
    "print('List 2: ', list2, ' :: List containing longer words: ',filter_long_words(list2, 6))"
   ]
  },
  {
   "cell_type": "markdown",
   "metadata": {},
   "source": [
    "2.1 Write a Python program using function concept that maps list of words into a list of integers representing the lengths of the corresponding words .\n",
    "Hint: If a list [ ab,cde,erty] is passed on to the python function output should come as [2,3,4]\n",
    "Here 2,3 and 4 are the lengths of the words in the list."
   ]
  },
  {
   "cell_type": "code",
   "execution_count": 27,
   "metadata": {},
   "outputs": [
    {
     "name": "stdout",
     "output_type": "stream",
     "text": [
      "List 1:  ['ab', 'cde', 'erty']  :: Mapped List:  [2, 3, 4]\n",
      "List 2:  ['vidula', 'v', 'kamat', 'mumbai']  :: Mapped List:  [6, 1, 5, 6]\n",
      "List 3:  ['novel corona', 'covid 19', 2020]  :: Mapped List:  Invalid List\n"
     ]
    }
   ],
   "source": [
    "def mapWordsToInt(my_list):\n",
    "    if(all([isinstance(item, type('string')) for item in my_list])):\n",
    "        return [len(element) for element in my_list]\n",
    "    else:\n",
    "        return \"Invalid List\"\n",
    "\n",
    "list1 = ['ab','cde','erty']\n",
    "list2 = ['vidula','v','kamat','mumbai']\n",
    "list3 = ['novel corona', 'covid 19', 2020]\n",
    "\n",
    "print('List 1: ', list1, ' :: Mapped List: ',mapWordsToInt(list1))\n",
    "print('List 2: ', list2, ' :: Mapped List: ',mapWordsToInt(list2))\n",
    "print('List 3: ', list3, ' :: Mapped List: ',mapWordsToInt(list3))"
   ]
  },
  {
   "cell_type": "markdown",
   "metadata": {},
   "source": [
    "2.2 Write a Python function which takes a character (i.e. a string of length 1) and returns True if it is a vowel, False otherwise."
   ]
  },
  {
   "cell_type": "code",
   "execution_count": 28,
   "metadata": {},
   "outputs": [
    {
     "name": "stdout",
     "output_type": "stream",
     "text": [
      "Is  x  vowel :  False\n",
      "Is  e  vowel :  True\n",
      "Is  P  vowel :  False\n",
      "Is  O  vowel :  True\n"
     ]
    }
   ],
   "source": [
    "def isVowel(str):\n",
    "    vowels_list = ['a','e','i','o','u']\n",
    "    if(str.lower() in vowels_list):\n",
    "        return True\n",
    "    else:\n",
    "        return False\n",
    "    \n",
    "str = 'x'\n",
    "print('Is ',str,' vowel : ',isVowel(str))\n",
    "str = 'e'\n",
    "print('Is ',str,' vowel : ',isVowel(str))\n",
    "str = 'P'\n",
    "print('Is ',str,' vowel : ',isVowel(str))\n",
    "str = 'O'\n",
    "print('Is ',str,' vowel : ',isVowel(str))"
   ]
  },
  {
   "cell_type": "code",
   "execution_count": null,
   "metadata": {},
   "outputs": [],
   "source": []
  }
 ],
 "metadata": {
  "kernelspec": {
   "display_name": "Python 3",
   "language": "python",
   "name": "python3"
  },
  "language_info": {
   "codemirror_mode": {
    "name": "ipython",
    "version": 3
   },
   "file_extension": ".py",
   "mimetype": "text/x-python",
   "name": "python",
   "nbconvert_exporter": "python",
   "pygments_lexer": "ipython3",
   "version": "3.7.4"
  }
 },
 "nbformat": 4,
 "nbformat_minor": 2
}
